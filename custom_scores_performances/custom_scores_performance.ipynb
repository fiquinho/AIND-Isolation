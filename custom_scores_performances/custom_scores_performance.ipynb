{
 "cells": [
  {
   "cell_type": "markdown",
   "metadata": {
    "deletable": true,
    "editable": true
   },
   "source": [
    "# Custom scores performance\n",
    "Storing custom scores code and performance in tournament.py"
   ]
  },
  {
   "cell_type": "markdown",
   "metadata": {
    "deletable": true,
    "editable": true
   },
   "source": [
    "## Commit 338e5ac - 05/12/17\n",
    "\n",
    "<span style=\"font-size: 20px; text-decoration: underline; color: blue; margin-top: 15px\">**0 - improved_score**<span>\n",
    "\n",
    "Agent legal moves - Opponent legal moves\n",
    "\n",
    "<div class=\"alert alert-block alert-warning\" style=\"display: inline-block; font-size: 20px; margin-top: 10px\">Winrate: 65.7%</div>\n",
    "\n",
    "<span style=\"font-size: 20px; text-decoration: underline; color: blue; margin-top: 15px\">**1 - custom_score**<span>\n",
    "\n",
    "Returns the number of legal moves posible for the agent in the board.\n",
    "\n",
    "<div class=\"alert alert-block alert-warning\" style=\"display: inline-block; font-size: 20px; margin-top: 10px\">Winrate: 67.1%</div>\n",
    "\n",
    "<span style=\"font-size: 20px; text-decoration: underline; color: blue; margin-top: 15px\">**2 - custom_score_2**<span>\n",
    "\n",
    "Defensive strategy.\n",
    "It takes into account the number of legal muves the agent has, and the number of legal moves the opponent has.\n",
    "Then it multiplies each with a factor (for the agent moves a factor > 1, and for the opponent moves a factor < 1).\n",
    "Last, it sustract the opponent score to the agent score.\n",
    "\n",
    "<div class=\"alert alert-block alert-success\" style=\"display: inline-block; font-size: 20px; margin-top: 10px\">Winrate: 72.9%</div>\n",
    "\n",
    "<span style=\"font-size: 20px; text-decoration: underline; color: blue; margin-top: 15px\">**3 - custom_score_3**<span>\n",
    "\n",
    "Offensive strategy.\n",
    "It takes into account the number of legal muves the agent has, and the number of legal moves the opponent has.\n",
    "Then it multiplies each with a factor (for the agent moves a factor < 1, and for the opponent moves a factor > 1).\n",
    "Last, it sustract the opponent score to the agent score.\n",
    "\n",
    "<div class=\"alert alert-block alert-warning\" style=\"display: inline-block; font-size: 20px; margin-top: 10px\">Winrate: 68.6%</div>\n",
    "\n",
    "<img src=\"338e5ac.png\">"
   ]
  },
  {
   "cell_type": "code",
   "execution_count": null,
   "metadata": {
    "collapsed": true,
    "deletable": true,
    "editable": true
   },
   "outputs": [],
   "source": [
    "def custom_score(game, player):\n",
    "\n",
    "    return float(len(game.get_legal_moves(player)))\n",
    "\n",
    "\n",
    "def custom_score_2(game, player):\n",
    "\n",
    "    # My moves - Opponent moves -> Defensive style\n",
    "    defense = 1.5\n",
    "    offence = 0.5\n",
    "\n",
    "    my_moves = len(game.get_legal_moves(player))\n",
    "    opponent_moves = len(game.get_legal_moves(game.get_opponent(player)))\n",
    "\n",
    "    return float(my_moves * defense - opponent_moves * offence)\n",
    "\n",
    "\n",
    "def custom_score_3(game, player):\n",
    "\n",
    "    # My moves - Opponent moves -> Offensive style\n",
    "    defense = 0.5\n",
    "    offence = 1.5\n",
    "\n",
    "    my_moves = len(game.get_legal_moves(player))\n",
    "    opponent_moves = len(game.get_legal_moves(game.get_opponent(player)))\n",
    "\n",
    "    return float(my_moves * defense - opponent_moves * offence)"
   ]
  },
  {
   "cell_type": "markdown",
   "metadata": {
    "collapsed": true,
    "deletable": true,
    "editable": true
   },
   "source": [
    "## Commit abd8fdf - 05/12/17\n",
    "\n",
    "<span style=\"font-size: 20px; text-decoration: underline; color: blue; margin-top: 15px\">**0 - improved_score**<span>\n",
    "\n",
    "Agent legal moves - Opponent legal moves\n",
    "\n",
    "<div class=\"alert alert-block alert-success\" style=\"display: inline-block; font-size: 20px; margin-top: 10px\">Winrate: 75.7%</div>\n",
    "\n",
    "<span style=\"font-size: 20px; text-decoration: underline; color: blue; margin-top: 15px\">**1 - custom_score**<span>\n",
    "\n",
    "First it evaluates if there are any moves that are available for both player.\n",
    "If there are and is the agents turn, they sum to the score, if it's the opponents turn, they are subtracted from the score.\n",
    "\n",
    "Agent legal moves - Opponent legal moves + shared_moves\n",
    "(shared moves is negative if it is the opponents turn)\n",
    "\n",
    "\n",
    "<div class=\"alert alert-block alert-success\" style=\"display: inline-block; font-size: 20px; margin-top: 10px\">Winrate: 72.9%</div>\n",
    "\n",
    "<span style=\"font-size: 20px; text-decoration: underline; color: blue; margin-top: 15px\">**2 - custom_score_2**<span>\n",
    "\n",
    "Defensive strategy.\n",
    "It takes into account the number of legal muves the agent has, and the number of legal moves the opponent has.\n",
    "Then it multiplies each with a factor (for the agent moves a factor > 1, and for the opponent moves a factor < 1).\n",
    "Last, it sustract the opponent score to the agent score.\n",
    "\n",
    "<div class=\"alert alert-block alert-warning\" style=\"display: inline-block; font-size: 20px; margin-top: 10px\">Winrate: 67.1%</div>\n",
    "\n",
    "<span style=\"font-size: 20px; text-decoration: underline; color: blue; margin-top: 15px\">**3 - custom_score_3**<span>\n",
    "\n",
    "Offensive strategy.\n",
    "It takes into account the number of legal muves the agent has, and the number of legal moves the opponent has.\n",
    "Then it multiplies each with a factor (for the agent moves a factor < 1, and for the opponent moves a factor > 1).\n",
    "Last, it sustract the opponent score to the agent score.\n",
    "\n",
    "<div class=\"alert alert-block alert-warning\" style=\"display: inline-block; font-size: 20px; margin-top: 10px\">Winrate: 68.6%</div>\n",
    "\n",
    "<img src=\"abd8fdf.png\">"
   ]
  },
  {
   "cell_type": "code",
   "execution_count": 1,
   "metadata": {
    "collapsed": true
   },
   "outputs": [],
   "source": [
    "def custom_score(game, player):\n",
    "\n",
    "    # First it evaluates if there are any moves that are available for both player.\n",
    "    # If there are and is the agents turn, they sum to the score, if it's the\n",
    "    # opponents turn, they are subtracted from the score\n",
    "\n",
    "    my_moves = game.get_legal_moves(player)\n",
    "    opponent_moves = game.get_legal_moves(game.get_opponent(player))\n",
    "\n",
    "    counter = 0\n",
    "    for move in my_moves:\n",
    "        if move in opponent_moves:\n",
    "            counter += 1\n",
    "\n",
    "    if game.active_player != player:\n",
    "        counter = counter * (-1)\n",
    "\n",
    "    return float(len(my_moves) - len(opponent_moves) + counter)\n",
    "\n",
    "def custom_score_2(game, player):\n",
    "\n",
    "    # My moves - Opponent moves -> Defensive style\n",
    "    defense = 1.5\n",
    "    offence = 0.5\n",
    "\n",
    "    my_moves = len(game.get_legal_moves(player))\n",
    "    opponent_moves = len(game.get_legal_moves(game.get_opponent(player)))\n",
    "\n",
    "    return float(my_moves * defense - opponent_moves * offence)\n",
    "\n",
    "\n",
    "def custom_score_3(game, player):\n",
    "\n",
    "    # My moves - Opponent moves -> Offensive style\n",
    "    defense = 0.5\n",
    "    offence = 1.5\n",
    "\n",
    "    my_moves = len(game.get_legal_moves(player))\n",
    "    opponent_moves = len(game.get_legal_moves(game.get_opponent(player)))\n",
    "\n",
    "    return float(my_moves * defense - opponent_moves * offence)"
   ]
  },
  {
   "cell_type": "code",
   "execution_count": null,
   "metadata": {
    "collapsed": true
   },
   "outputs": [],
   "source": []
  }
 ],
 "metadata": {
  "kernelspec": {
   "display_name": "Python [conda env:aind]",
   "language": "python",
   "name": "conda-env-aind-py"
  },
  "language_info": {
   "codemirror_mode": {
    "name": "ipython",
    "version": 3
   },
   "file_extension": ".py",
   "mimetype": "text/x-python",
   "name": "python",
   "nbconvert_exporter": "python",
   "pygments_lexer": "ipython3",
   "version": "3.6.0"
  }
 },
 "nbformat": 4,
 "nbformat_minor": 2
}
