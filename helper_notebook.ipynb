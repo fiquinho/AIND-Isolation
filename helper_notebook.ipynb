{
 "cells": [
  {
   "cell_type": "code",
   "execution_count": 1,
   "metadata": {
    "collapsed": true,
    "deletable": true,
    "editable": true
   },
   "outputs": [],
   "source": [
    "from isolation import Board\n",
    "from sample_players import RandomPlayer\n",
    "from sample_players import GreedyPlayer"
   ]
  },
  {
   "cell_type": "code",
   "execution_count": 2,
   "metadata": {
    "collapsed": true,
    "deletable": true,
    "editable": true
   },
   "outputs": [],
   "source": [
    "# create an isolation board (by default 7x7)\n",
    "player1 = RandomPlayer()\n",
    "player2 = GreedyPlayer()\n",
    "game = Board(player1, player2)"
   ]
  },
  {
   "cell_type": "code",
   "execution_count": 11,
   "metadata": {
    "collapsed": false,
    "deletable": true,
    "editable": true,
    "scrolled": true
   },
   "outputs": [
    {
     "data": {
      "text/plain": [
       "['width',\n",
       " 'height',\n",
       " 'move_count',\n",
       " '_player_1',\n",
       " '_player_2',\n",
       " '_active_player',\n",
       " '_inactive_player',\n",
       " '_board_state',\n",
       " '__module__',\n",
       " '__doc__',\n",
       " 'BLANK',\n",
       " 'NOT_MOVED',\n",
       " '__init__',\n",
       " 'hash',\n",
       " 'active_player',\n",
       " 'inactive_player',\n",
       " 'get_opponent',\n",
       " 'copy',\n",
       " 'forecast_move',\n",
       " 'move_is_legal',\n",
       " 'get_blank_spaces',\n",
       " 'get_player_location',\n",
       " 'get_legal_moves',\n",
       " 'apply_move',\n",
       " 'is_winner',\n",
       " 'is_loser',\n",
       " 'utility',\n",
       " '_Board__get_moves',\n",
       " 'print_board',\n",
       " 'to_string',\n",
       " 'play',\n",
       " '__dict__',\n",
       " '__weakref__',\n",
       " '__repr__',\n",
       " '__hash__',\n",
       " '__str__',\n",
       " '__getattribute__',\n",
       " '__setattr__',\n",
       " '__delattr__',\n",
       " '__lt__',\n",
       " '__le__',\n",
       " '__eq__',\n",
       " '__ne__',\n",
       " '__gt__',\n",
       " '__ge__',\n",
       " '__new__',\n",
       " '__reduce_ex__',\n",
       " '__reduce__',\n",
       " '__subclasshook__',\n",
       " '__init_subclass__',\n",
       " '__format__',\n",
       " '__sizeof__',\n",
       " '__dir__',\n",
       " '__class__']"
      ]
     },
     "execution_count": 11,
     "metadata": {},
     "output_type": "execute_result"
    }
   ],
   "source": [
    "game.__dir__()"
   ]
  },
  {
   "cell_type": "code",
   "execution_count": 3,
   "metadata": {
    "collapsed": true,
    "deletable": true,
    "editable": true
   },
   "outputs": [],
   "source": [
    "new_game = game.forecast_move((1,1))"
   ]
  },
  {
   "cell_type": "code",
   "execution_count": 4,
   "metadata": {
    "collapsed": false
   },
   "outputs": [
    {
     "data": {
      "text/plain": [
       "<sample_players.GreedyPlayer at 0x234236cac50>"
      ]
     },
     "execution_count": 4,
     "metadata": {},
     "output_type": "execute_result"
    }
   ],
   "source": [
    "new_game.active_player"
   ]
  },
  {
   "cell_type": "code",
   "execution_count": null,
   "metadata": {
    "collapsed": true
   },
   "outputs": [],
   "source": []
  }
 ],
 "metadata": {
  "kernelspec": {
   "display_name": "Python 3",
   "language": "python",
   "name": "python3"
  },
  "language_info": {
   "codemirror_mode": {
    "name": "ipython",
    "version": 3
   },
   "file_extension": ".py",
   "mimetype": "text/x-python",
   "name": "python",
   "nbconvert_exporter": "python",
   "pygments_lexer": "ipython3",
   "version": "3.6.0"
  }
 },
 "nbformat": 4,
 "nbformat_minor": 2
}
