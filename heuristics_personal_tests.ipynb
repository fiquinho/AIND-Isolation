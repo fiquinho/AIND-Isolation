{
 "cells": [
  {
   "cell_type": "markdown",
   "metadata": {
    "deletable": true,
    "editable": true
   },
   "source": [
    "# Testing cells to check agents functionalities"
   ]
  },
  {
   "cell_type": "markdown",
   "metadata": {
    "deletable": true,
    "editable": true
   },
   "source": [
    "This first cells create a game and 2 players to play it."
   ]
  },
  {
   "cell_type": "code",
   "execution_count": 12,
   "metadata": {
    "collapsed": true,
    "deletable": true,
    "editable": true
   },
   "outputs": [],
   "source": [
    "import random\n",
    "import pandas as pd\n",
    "from isolation import Board\n",
    "from game_agent import MinimaxPlayer, AlphaBetaPlayer"
   ]
  },
  {
   "cell_type": "code",
   "execution_count": 2,
   "metadata": {
    "collapsed": true,
    "deletable": true,
    "editable": true
   },
   "outputs": [],
   "source": [
    "MiniMax_player = MinimaxPlayer()\n",
    "AlphaBeta_player = AlphaBetaPlayer()"
   ]
  },
  {
   "cell_type": "code",
   "execution_count": 3,
   "metadata": {
    "collapsed": false,
    "deletable": true,
    "editable": true
   },
   "outputs": [],
   "source": [
    "game = Board(MiniMax_player, AlphaBeta_player)"
   ]
  },
  {
   "cell_type": "markdown",
   "metadata": {
    "deletable": true,
    "editable": true
   },
   "source": [
    "### Atributes and functions of the Board object"
   ]
  },
  {
   "cell_type": "code",
   "execution_count": 4,
   "metadata": {
    "collapsed": false,
    "deletable": true,
    "editable": true,
    "scrolled": true
   },
   "outputs": [
    {
     "data": {
      "text/plain": [
       "['width',\n",
       " 'height',\n",
       " 'move_count',\n",
       " '_player_1',\n",
       " '_player_2',\n",
       " '_active_player',\n",
       " '_inactive_player',\n",
       " '_board_state',\n",
       " '__module__',\n",
       " '__doc__',\n",
       " 'BLANK',\n",
       " 'NOT_MOVED',\n",
       " '__init__',\n",
       " 'hash',\n",
       " 'active_player',\n",
       " 'inactive_player',\n",
       " 'get_opponent',\n",
       " 'copy',\n",
       " 'forecast_move',\n",
       " 'move_is_legal',\n",
       " 'get_blank_spaces',\n",
       " 'get_player_location',\n",
       " 'get_legal_moves',\n",
       " 'apply_move',\n",
       " 'is_winner',\n",
       " 'is_loser',\n",
       " 'utility',\n",
       " '_Board__get_moves',\n",
       " 'print_board',\n",
       " 'to_string',\n",
       " 'play',\n",
       " '__dict__',\n",
       " '__weakref__',\n",
       " '__repr__',\n",
       " '__hash__',\n",
       " '__str__',\n",
       " '__getattribute__',\n",
       " '__setattr__',\n",
       " '__delattr__',\n",
       " '__lt__',\n",
       " '__le__',\n",
       " '__eq__',\n",
       " '__ne__',\n",
       " '__gt__',\n",
       " '__ge__',\n",
       " '__new__',\n",
       " '__reduce_ex__',\n",
       " '__reduce__',\n",
       " '__subclasshook__',\n",
       " '__init_subclass__',\n",
       " '__format__',\n",
       " '__sizeof__',\n",
       " '__dir__',\n",
       " '__class__']"
      ]
     },
     "execution_count": 4,
     "metadata": {},
     "output_type": "execute_result"
    }
   ],
   "source": [
    "game.__dir__()"
   ]
  },
  {
   "cell_type": "code",
   "execution_count": 5,
   "metadata": {
    "collapsed": false,
    "deletable": true,
    "editable": true
   },
   "outputs": [
    {
     "name": "stdout",
     "output_type": "stream",
     "text": [
      "     0   1   2   3   4   5   6\n",
      "\r",
      "0  |   |   |   |   |   |   |   | \n",
      "\r",
      "1  |   |   |   |   |   |   |   | \n",
      "\r",
      "2  |   |   |   |   |   |   |   | \n",
      "\r",
      "3  |   |   |   |   |   |   |   | \n",
      "\r",
      "4  |   |   |   |   |   |   |   | \n",
      "\r",
      "5  |   |   |   |   |   |   |   | \n",
      "\r",
      "6  |   |   |   |   |   |   |   | \n",
      "\r\n"
     ]
    }
   ],
   "source": [
    "print(game.to_string())"
   ]
  },
  {
   "cell_type": "markdown",
   "metadata": {
    "deletable": true,
    "editable": true
   },
   "source": [
    "## Checking game functionality"
   ]
  },
  {
   "cell_type": "markdown",
   "metadata": {
    "deletable": true,
    "editable": true
   },
   "source": [
    "First, make a copy of game, so it remains unchanged, with zero movements on it"
   ]
  },
  {
   "cell_type": "code",
   "execution_count": 6,
   "metadata": {
    "collapsed": true,
    "deletable": true,
    "editable": true
   },
   "outputs": [],
   "source": [
    "test_game = game.copy()"
   ]
  },
  {
   "cell_type": "markdown",
   "metadata": {
    "deletable": true,
    "editable": true
   },
   "source": [
    "Aplly two random moves, one for each player"
   ]
  },
  {
   "cell_type": "code",
   "execution_count": 7,
   "metadata": {
    "collapsed": false,
    "deletable": true,
    "editable": true
   },
   "outputs": [],
   "source": [
    "for _ in range(2):\n",
    "    move = random.choice(test_game.get_legal_moves())\n",
    "    test_game.apply_move(move)"
   ]
  },
  {
   "cell_type": "code",
   "execution_count": 8,
   "metadata": {
    "collapsed": false,
    "deletable": true,
    "editable": true
   },
   "outputs": [
    {
     "name": "stdout",
     "output_type": "stream",
     "text": [
      "     0   1   2   3   4   5   6\n",
      "\r",
      "0  |   |   |   |   |   | 1 |   | \n",
      "\r",
      "1  |   |   |   |   |   |   |   | \n",
      "\r",
      "2  |   |   |   |   | 2 |   |   | \n",
      "\r",
      "3  |   |   |   |   |   |   |   | \n",
      "\r",
      "4  |   |   |   |   |   |   |   | \n",
      "\r",
      "5  |   |   |   |   |   |   |   | \n",
      "\r",
      "6  |   |   |   |   |   |   |   | \n",
      "\r\n"
     ]
    }
   ],
   "source": [
    "print(test_game.to_string())"
   ]
  },
  {
   "cell_type": "markdown",
   "metadata": {
    "deletable": true,
    "editable": true
   },
   "source": [
    "Check that the game is played, and both players play to the end"
   ]
  },
  {
   "cell_type": "code",
   "execution_count": 9,
   "metadata": {
    "collapsed": false,
    "deletable": true,
    "editable": true
   },
   "outputs": [
    {
     "name": "stdout",
     "output_type": "stream",
     "text": [
      "<game_agent.AlphaBetaPlayer object at 0x000000053B4AF5C0>\n",
      "[[1, 3], [1, 6], [3, 2], [0, 4], [5, 1], [1, 2], [4, 3], [3, 3], [3, 1], [5, 4], [1, 0], [4, 6], [0, 2], [6, 5], [2, 1], [5, 3], [4, 2], [3, 4], [6, 3], [1, 5], [4, 4], [2, 3], [5, 2], [1, 1], [6, 0], [0, 3], [4, 1], [2, 2], [6, 2], [0, 1], [5, 0], [2, 0]]\n",
      "illegal move\n"
     ]
    }
   ],
   "source": [
    "winner, move_history, winning_reason = test_game.play()\n",
    "\n",
    "print(winner)\n",
    "print(move_history)\n",
    "print(winning_reason)"
   ]
  },
  {
   "cell_type": "code",
   "execution_count": 10,
   "metadata": {
    "collapsed": false,
    "deletable": true,
    "editable": true
   },
   "outputs": [
    {
     "name": "stdout",
     "output_type": "stream",
     "text": [
      "     0   1   2   3   4   5   6\n",
      "\r",
      "0  |   | - | - | - | - | - |   | \n",
      "\r",
      "1  | - | - | - | - |   | - | - | \n",
      "\r",
      "2  | 2 | - | - | - | - |   |   | \n",
      "\r",
      "3  |   | - | - | - | - |   |   | \n",
      "\r",
      "4  |   | - | - | - | - |   | - | \n",
      "\r",
      "5  | 1 | - | - | - | - |   |   | \n",
      "\r",
      "6  | - |   | - | - |   | - |   | \n",
      "\r\n"
     ]
    }
   ],
   "source": [
    "print(test_game.to_string())"
   ]
  },
  {
   "cell_type": "markdown",
   "metadata": {
    "collapsed": true,
    "deletable": true,
    "editable": true
   },
   "source": [
    "## Saving the results into a Pandas dataframe"
   ]
  },
  {
   "cell_type": "code",
   "execution_count": 15,
   "metadata": {
    "collapsed": false
   },
   "outputs": [
    {
     "data": {
      "text/html": [
       "<div>\n",
       "<table border=\"1\" class=\"dataframe\">\n",
       "  <thead>\n",
       "    <tr style=\"text-align: right;\">\n",
       "      <th></th>\n",
       "      <th>Player 1</th>\n",
       "      <th>Player 2</th>\n",
       "      <th>Winner</th>\n",
       "      <th>Move history</th>\n",
       "      <th>Winning reason</th>\n",
       "    </tr>\n",
       "  </thead>\n",
       "  <tbody>\n",
       "    <tr>\n",
       "      <th>0</th>\n",
       "      <td>&lt;game_agent.MinimaxPlayer object at 0x00000005...</td>\n",
       "      <td>&lt;game_agent.AlphaBetaPlayer object at 0x000000...</td>\n",
       "      <td>&lt;game_agent.AlphaBetaPlayer object at 0x000000...</td>\n",
       "      <td>[1, 3]</td>\n",
       "      <td>illegal move</td>\n",
       "    </tr>\n",
       "    <tr>\n",
       "      <th>1</th>\n",
       "      <td>&lt;game_agent.MinimaxPlayer object at 0x00000005...</td>\n",
       "      <td>&lt;game_agent.AlphaBetaPlayer object at 0x000000...</td>\n",
       "      <td>&lt;game_agent.AlphaBetaPlayer object at 0x000000...</td>\n",
       "      <td>[1, 6]</td>\n",
       "      <td>illegal move</td>\n",
       "    </tr>\n",
       "    <tr>\n",
       "      <th>2</th>\n",
       "      <td>&lt;game_agent.MinimaxPlayer object at 0x00000005...</td>\n",
       "      <td>&lt;game_agent.AlphaBetaPlayer object at 0x000000...</td>\n",
       "      <td>&lt;game_agent.AlphaBetaPlayer object at 0x000000...</td>\n",
       "      <td>[3, 2]</td>\n",
       "      <td>illegal move</td>\n",
       "    </tr>\n",
       "    <tr>\n",
       "      <th>3</th>\n",
       "      <td>&lt;game_agent.MinimaxPlayer object at 0x00000005...</td>\n",
       "      <td>&lt;game_agent.AlphaBetaPlayer object at 0x000000...</td>\n",
       "      <td>&lt;game_agent.AlphaBetaPlayer object at 0x000000...</td>\n",
       "      <td>[0, 4]</td>\n",
       "      <td>illegal move</td>\n",
       "    </tr>\n",
       "    <tr>\n",
       "      <th>4</th>\n",
       "      <td>&lt;game_agent.MinimaxPlayer object at 0x00000005...</td>\n",
       "      <td>&lt;game_agent.AlphaBetaPlayer object at 0x000000...</td>\n",
       "      <td>&lt;game_agent.AlphaBetaPlayer object at 0x000000...</td>\n",
       "      <td>[5, 1]</td>\n",
       "      <td>illegal move</td>\n",
       "    </tr>\n",
       "    <tr>\n",
       "      <th>5</th>\n",
       "      <td>&lt;game_agent.MinimaxPlayer object at 0x00000005...</td>\n",
       "      <td>&lt;game_agent.AlphaBetaPlayer object at 0x000000...</td>\n",
       "      <td>&lt;game_agent.AlphaBetaPlayer object at 0x000000...</td>\n",
       "      <td>[1, 2]</td>\n",
       "      <td>illegal move</td>\n",
       "    </tr>\n",
       "    <tr>\n",
       "      <th>6</th>\n",
       "      <td>&lt;game_agent.MinimaxPlayer object at 0x00000005...</td>\n",
       "      <td>&lt;game_agent.AlphaBetaPlayer object at 0x000000...</td>\n",
       "      <td>&lt;game_agent.AlphaBetaPlayer object at 0x000000...</td>\n",
       "      <td>[4, 3]</td>\n",
       "      <td>illegal move</td>\n",
       "    </tr>\n",
       "    <tr>\n",
       "      <th>7</th>\n",
       "      <td>&lt;game_agent.MinimaxPlayer object at 0x00000005...</td>\n",
       "      <td>&lt;game_agent.AlphaBetaPlayer object at 0x000000...</td>\n",
       "      <td>&lt;game_agent.AlphaBetaPlayer object at 0x000000...</td>\n",
       "      <td>[3, 3]</td>\n",
       "      <td>illegal move</td>\n",
       "    </tr>\n",
       "    <tr>\n",
       "      <th>8</th>\n",
       "      <td>&lt;game_agent.MinimaxPlayer object at 0x00000005...</td>\n",
       "      <td>&lt;game_agent.AlphaBetaPlayer object at 0x000000...</td>\n",
       "      <td>&lt;game_agent.AlphaBetaPlayer object at 0x000000...</td>\n",
       "      <td>[3, 1]</td>\n",
       "      <td>illegal move</td>\n",
       "    </tr>\n",
       "    <tr>\n",
       "      <th>9</th>\n",
       "      <td>&lt;game_agent.MinimaxPlayer object at 0x00000005...</td>\n",
       "      <td>&lt;game_agent.AlphaBetaPlayer object at 0x000000...</td>\n",
       "      <td>&lt;game_agent.AlphaBetaPlayer object at 0x000000...</td>\n",
       "      <td>[5, 4]</td>\n",
       "      <td>illegal move</td>\n",
       "    </tr>\n",
       "    <tr>\n",
       "      <th>10</th>\n",
       "      <td>&lt;game_agent.MinimaxPlayer object at 0x00000005...</td>\n",
       "      <td>&lt;game_agent.AlphaBetaPlayer object at 0x000000...</td>\n",
       "      <td>&lt;game_agent.AlphaBetaPlayer object at 0x000000...</td>\n",
       "      <td>[1, 0]</td>\n",
       "      <td>illegal move</td>\n",
       "    </tr>\n",
       "    <tr>\n",
       "      <th>11</th>\n",
       "      <td>&lt;game_agent.MinimaxPlayer object at 0x00000005...</td>\n",
       "      <td>&lt;game_agent.AlphaBetaPlayer object at 0x000000...</td>\n",
       "      <td>&lt;game_agent.AlphaBetaPlayer object at 0x000000...</td>\n",
       "      <td>[4, 6]</td>\n",
       "      <td>illegal move</td>\n",
       "    </tr>\n",
       "    <tr>\n",
       "      <th>12</th>\n",
       "      <td>&lt;game_agent.MinimaxPlayer object at 0x00000005...</td>\n",
       "      <td>&lt;game_agent.AlphaBetaPlayer object at 0x000000...</td>\n",
       "      <td>&lt;game_agent.AlphaBetaPlayer object at 0x000000...</td>\n",
       "      <td>[0, 2]</td>\n",
       "      <td>illegal move</td>\n",
       "    </tr>\n",
       "    <tr>\n",
       "      <th>13</th>\n",
       "      <td>&lt;game_agent.MinimaxPlayer object at 0x00000005...</td>\n",
       "      <td>&lt;game_agent.AlphaBetaPlayer object at 0x000000...</td>\n",
       "      <td>&lt;game_agent.AlphaBetaPlayer object at 0x000000...</td>\n",
       "      <td>[6, 5]</td>\n",
       "      <td>illegal move</td>\n",
       "    </tr>\n",
       "    <tr>\n",
       "      <th>14</th>\n",
       "      <td>&lt;game_agent.MinimaxPlayer object at 0x00000005...</td>\n",
       "      <td>&lt;game_agent.AlphaBetaPlayer object at 0x000000...</td>\n",
       "      <td>&lt;game_agent.AlphaBetaPlayer object at 0x000000...</td>\n",
       "      <td>[2, 1]</td>\n",
       "      <td>illegal move</td>\n",
       "    </tr>\n",
       "    <tr>\n",
       "      <th>15</th>\n",
       "      <td>&lt;game_agent.MinimaxPlayer object at 0x00000005...</td>\n",
       "      <td>&lt;game_agent.AlphaBetaPlayer object at 0x000000...</td>\n",
       "      <td>&lt;game_agent.AlphaBetaPlayer object at 0x000000...</td>\n",
       "      <td>[5, 3]</td>\n",
       "      <td>illegal move</td>\n",
       "    </tr>\n",
       "    <tr>\n",
       "      <th>16</th>\n",
       "      <td>&lt;game_agent.MinimaxPlayer object at 0x00000005...</td>\n",
       "      <td>&lt;game_agent.AlphaBetaPlayer object at 0x000000...</td>\n",
       "      <td>&lt;game_agent.AlphaBetaPlayer object at 0x000000...</td>\n",
       "      <td>[4, 2]</td>\n",
       "      <td>illegal move</td>\n",
       "    </tr>\n",
       "    <tr>\n",
       "      <th>17</th>\n",
       "      <td>&lt;game_agent.MinimaxPlayer object at 0x00000005...</td>\n",
       "      <td>&lt;game_agent.AlphaBetaPlayer object at 0x000000...</td>\n",
       "      <td>&lt;game_agent.AlphaBetaPlayer object at 0x000000...</td>\n",
       "      <td>[3, 4]</td>\n",
       "      <td>illegal move</td>\n",
       "    </tr>\n",
       "    <tr>\n",
       "      <th>18</th>\n",
       "      <td>&lt;game_agent.MinimaxPlayer object at 0x00000005...</td>\n",
       "      <td>&lt;game_agent.AlphaBetaPlayer object at 0x000000...</td>\n",
       "      <td>&lt;game_agent.AlphaBetaPlayer object at 0x000000...</td>\n",
       "      <td>[6, 3]</td>\n",
       "      <td>illegal move</td>\n",
       "    </tr>\n",
       "    <tr>\n",
       "      <th>19</th>\n",
       "      <td>&lt;game_agent.MinimaxPlayer object at 0x00000005...</td>\n",
       "      <td>&lt;game_agent.AlphaBetaPlayer object at 0x000000...</td>\n",
       "      <td>&lt;game_agent.AlphaBetaPlayer object at 0x000000...</td>\n",
       "      <td>[1, 5]</td>\n",
       "      <td>illegal move</td>\n",
       "    </tr>\n",
       "    <tr>\n",
       "      <th>20</th>\n",
       "      <td>&lt;game_agent.MinimaxPlayer object at 0x00000005...</td>\n",
       "      <td>&lt;game_agent.AlphaBetaPlayer object at 0x000000...</td>\n",
       "      <td>&lt;game_agent.AlphaBetaPlayer object at 0x000000...</td>\n",
       "      <td>[4, 4]</td>\n",
       "      <td>illegal move</td>\n",
       "    </tr>\n",
       "    <tr>\n",
       "      <th>21</th>\n",
       "      <td>&lt;game_agent.MinimaxPlayer object at 0x00000005...</td>\n",
       "      <td>&lt;game_agent.AlphaBetaPlayer object at 0x000000...</td>\n",
       "      <td>&lt;game_agent.AlphaBetaPlayer object at 0x000000...</td>\n",
       "      <td>[2, 3]</td>\n",
       "      <td>illegal move</td>\n",
       "    </tr>\n",
       "    <tr>\n",
       "      <th>22</th>\n",
       "      <td>&lt;game_agent.MinimaxPlayer object at 0x00000005...</td>\n",
       "      <td>&lt;game_agent.AlphaBetaPlayer object at 0x000000...</td>\n",
       "      <td>&lt;game_agent.AlphaBetaPlayer object at 0x000000...</td>\n",
       "      <td>[5, 2]</td>\n",
       "      <td>illegal move</td>\n",
       "    </tr>\n",
       "    <tr>\n",
       "      <th>23</th>\n",
       "      <td>&lt;game_agent.MinimaxPlayer object at 0x00000005...</td>\n",
       "      <td>&lt;game_agent.AlphaBetaPlayer object at 0x000000...</td>\n",
       "      <td>&lt;game_agent.AlphaBetaPlayer object at 0x000000...</td>\n",
       "      <td>[1, 1]</td>\n",
       "      <td>illegal move</td>\n",
       "    </tr>\n",
       "    <tr>\n",
       "      <th>24</th>\n",
       "      <td>&lt;game_agent.MinimaxPlayer object at 0x00000005...</td>\n",
       "      <td>&lt;game_agent.AlphaBetaPlayer object at 0x000000...</td>\n",
       "      <td>&lt;game_agent.AlphaBetaPlayer object at 0x000000...</td>\n",
       "      <td>[6, 0]</td>\n",
       "      <td>illegal move</td>\n",
       "    </tr>\n",
       "    <tr>\n",
       "      <th>25</th>\n",
       "      <td>&lt;game_agent.MinimaxPlayer object at 0x00000005...</td>\n",
       "      <td>&lt;game_agent.AlphaBetaPlayer object at 0x000000...</td>\n",
       "      <td>&lt;game_agent.AlphaBetaPlayer object at 0x000000...</td>\n",
       "      <td>[0, 3]</td>\n",
       "      <td>illegal move</td>\n",
       "    </tr>\n",
       "    <tr>\n",
       "      <th>26</th>\n",
       "      <td>&lt;game_agent.MinimaxPlayer object at 0x00000005...</td>\n",
       "      <td>&lt;game_agent.AlphaBetaPlayer object at 0x000000...</td>\n",
       "      <td>&lt;game_agent.AlphaBetaPlayer object at 0x000000...</td>\n",
       "      <td>[4, 1]</td>\n",
       "      <td>illegal move</td>\n",
       "    </tr>\n",
       "    <tr>\n",
       "      <th>27</th>\n",
       "      <td>&lt;game_agent.MinimaxPlayer object at 0x00000005...</td>\n",
       "      <td>&lt;game_agent.AlphaBetaPlayer object at 0x000000...</td>\n",
       "      <td>&lt;game_agent.AlphaBetaPlayer object at 0x000000...</td>\n",
       "      <td>[2, 2]</td>\n",
       "      <td>illegal move</td>\n",
       "    </tr>\n",
       "    <tr>\n",
       "      <th>28</th>\n",
       "      <td>&lt;game_agent.MinimaxPlayer object at 0x00000005...</td>\n",
       "      <td>&lt;game_agent.AlphaBetaPlayer object at 0x000000...</td>\n",
       "      <td>&lt;game_agent.AlphaBetaPlayer object at 0x000000...</td>\n",
       "      <td>[6, 2]</td>\n",
       "      <td>illegal move</td>\n",
       "    </tr>\n",
       "    <tr>\n",
       "      <th>29</th>\n",
       "      <td>&lt;game_agent.MinimaxPlayer object at 0x00000005...</td>\n",
       "      <td>&lt;game_agent.AlphaBetaPlayer object at 0x000000...</td>\n",
       "      <td>&lt;game_agent.AlphaBetaPlayer object at 0x000000...</td>\n",
       "      <td>[0, 1]</td>\n",
       "      <td>illegal move</td>\n",
       "    </tr>\n",
       "    <tr>\n",
       "      <th>30</th>\n",
       "      <td>&lt;game_agent.MinimaxPlayer object at 0x00000005...</td>\n",
       "      <td>&lt;game_agent.AlphaBetaPlayer object at 0x000000...</td>\n",
       "      <td>&lt;game_agent.AlphaBetaPlayer object at 0x000000...</td>\n",
       "      <td>[5, 0]</td>\n",
       "      <td>illegal move</td>\n",
       "    </tr>\n",
       "    <tr>\n",
       "      <th>31</th>\n",
       "      <td>&lt;game_agent.MinimaxPlayer object at 0x00000005...</td>\n",
       "      <td>&lt;game_agent.AlphaBetaPlayer object at 0x000000...</td>\n",
       "      <td>&lt;game_agent.AlphaBetaPlayer object at 0x000000...</td>\n",
       "      <td>[2, 0]</td>\n",
       "      <td>illegal move</td>\n",
       "    </tr>\n",
       "  </tbody>\n",
       "</table>\n",
       "</div>"
      ],
      "text/plain": [
       "                                             Player 1  \\\n",
       "0   <game_agent.MinimaxPlayer object at 0x00000005...   \n",
       "1   <game_agent.MinimaxPlayer object at 0x00000005...   \n",
       "2   <game_agent.MinimaxPlayer object at 0x00000005...   \n",
       "3   <game_agent.MinimaxPlayer object at 0x00000005...   \n",
       "4   <game_agent.MinimaxPlayer object at 0x00000005...   \n",
       "5   <game_agent.MinimaxPlayer object at 0x00000005...   \n",
       "6   <game_agent.MinimaxPlayer object at 0x00000005...   \n",
       "7   <game_agent.MinimaxPlayer object at 0x00000005...   \n",
       "8   <game_agent.MinimaxPlayer object at 0x00000005...   \n",
       "9   <game_agent.MinimaxPlayer object at 0x00000005...   \n",
       "10  <game_agent.MinimaxPlayer object at 0x00000005...   \n",
       "11  <game_agent.MinimaxPlayer object at 0x00000005...   \n",
       "12  <game_agent.MinimaxPlayer object at 0x00000005...   \n",
       "13  <game_agent.MinimaxPlayer object at 0x00000005...   \n",
       "14  <game_agent.MinimaxPlayer object at 0x00000005...   \n",
       "15  <game_agent.MinimaxPlayer object at 0x00000005...   \n",
       "16  <game_agent.MinimaxPlayer object at 0x00000005...   \n",
       "17  <game_agent.MinimaxPlayer object at 0x00000005...   \n",
       "18  <game_agent.MinimaxPlayer object at 0x00000005...   \n",
       "19  <game_agent.MinimaxPlayer object at 0x00000005...   \n",
       "20  <game_agent.MinimaxPlayer object at 0x00000005...   \n",
       "21  <game_agent.MinimaxPlayer object at 0x00000005...   \n",
       "22  <game_agent.MinimaxPlayer object at 0x00000005...   \n",
       "23  <game_agent.MinimaxPlayer object at 0x00000005...   \n",
       "24  <game_agent.MinimaxPlayer object at 0x00000005...   \n",
       "25  <game_agent.MinimaxPlayer object at 0x00000005...   \n",
       "26  <game_agent.MinimaxPlayer object at 0x00000005...   \n",
       "27  <game_agent.MinimaxPlayer object at 0x00000005...   \n",
       "28  <game_agent.MinimaxPlayer object at 0x00000005...   \n",
       "29  <game_agent.MinimaxPlayer object at 0x00000005...   \n",
       "30  <game_agent.MinimaxPlayer object at 0x00000005...   \n",
       "31  <game_agent.MinimaxPlayer object at 0x00000005...   \n",
       "\n",
       "                                             Player 2  \\\n",
       "0   <game_agent.AlphaBetaPlayer object at 0x000000...   \n",
       "1   <game_agent.AlphaBetaPlayer object at 0x000000...   \n",
       "2   <game_agent.AlphaBetaPlayer object at 0x000000...   \n",
       "3   <game_agent.AlphaBetaPlayer object at 0x000000...   \n",
       "4   <game_agent.AlphaBetaPlayer object at 0x000000...   \n",
       "5   <game_agent.AlphaBetaPlayer object at 0x000000...   \n",
       "6   <game_agent.AlphaBetaPlayer object at 0x000000...   \n",
       "7   <game_agent.AlphaBetaPlayer object at 0x000000...   \n",
       "8   <game_agent.AlphaBetaPlayer object at 0x000000...   \n",
       "9   <game_agent.AlphaBetaPlayer object at 0x000000...   \n",
       "10  <game_agent.AlphaBetaPlayer object at 0x000000...   \n",
       "11  <game_agent.AlphaBetaPlayer object at 0x000000...   \n",
       "12  <game_agent.AlphaBetaPlayer object at 0x000000...   \n",
       "13  <game_agent.AlphaBetaPlayer object at 0x000000...   \n",
       "14  <game_agent.AlphaBetaPlayer object at 0x000000...   \n",
       "15  <game_agent.AlphaBetaPlayer object at 0x000000...   \n",
       "16  <game_agent.AlphaBetaPlayer object at 0x000000...   \n",
       "17  <game_agent.AlphaBetaPlayer object at 0x000000...   \n",
       "18  <game_agent.AlphaBetaPlayer object at 0x000000...   \n",
       "19  <game_agent.AlphaBetaPlayer object at 0x000000...   \n",
       "20  <game_agent.AlphaBetaPlayer object at 0x000000...   \n",
       "21  <game_agent.AlphaBetaPlayer object at 0x000000...   \n",
       "22  <game_agent.AlphaBetaPlayer object at 0x000000...   \n",
       "23  <game_agent.AlphaBetaPlayer object at 0x000000...   \n",
       "24  <game_agent.AlphaBetaPlayer object at 0x000000...   \n",
       "25  <game_agent.AlphaBetaPlayer object at 0x000000...   \n",
       "26  <game_agent.AlphaBetaPlayer object at 0x000000...   \n",
       "27  <game_agent.AlphaBetaPlayer object at 0x000000...   \n",
       "28  <game_agent.AlphaBetaPlayer object at 0x000000...   \n",
       "29  <game_agent.AlphaBetaPlayer object at 0x000000...   \n",
       "30  <game_agent.AlphaBetaPlayer object at 0x000000...   \n",
       "31  <game_agent.AlphaBetaPlayer object at 0x000000...   \n",
       "\n",
       "                                               Winner Move history  \\\n",
       "0   <game_agent.AlphaBetaPlayer object at 0x000000...       [1, 3]   \n",
       "1   <game_agent.AlphaBetaPlayer object at 0x000000...       [1, 6]   \n",
       "2   <game_agent.AlphaBetaPlayer object at 0x000000...       [3, 2]   \n",
       "3   <game_agent.AlphaBetaPlayer object at 0x000000...       [0, 4]   \n",
       "4   <game_agent.AlphaBetaPlayer object at 0x000000...       [5, 1]   \n",
       "5   <game_agent.AlphaBetaPlayer object at 0x000000...       [1, 2]   \n",
       "6   <game_agent.AlphaBetaPlayer object at 0x000000...       [4, 3]   \n",
       "7   <game_agent.AlphaBetaPlayer object at 0x000000...       [3, 3]   \n",
       "8   <game_agent.AlphaBetaPlayer object at 0x000000...       [3, 1]   \n",
       "9   <game_agent.AlphaBetaPlayer object at 0x000000...       [5, 4]   \n",
       "10  <game_agent.AlphaBetaPlayer object at 0x000000...       [1, 0]   \n",
       "11  <game_agent.AlphaBetaPlayer object at 0x000000...       [4, 6]   \n",
       "12  <game_agent.AlphaBetaPlayer object at 0x000000...       [0, 2]   \n",
       "13  <game_agent.AlphaBetaPlayer object at 0x000000...       [6, 5]   \n",
       "14  <game_agent.AlphaBetaPlayer object at 0x000000...       [2, 1]   \n",
       "15  <game_agent.AlphaBetaPlayer object at 0x000000...       [5, 3]   \n",
       "16  <game_agent.AlphaBetaPlayer object at 0x000000...       [4, 2]   \n",
       "17  <game_agent.AlphaBetaPlayer object at 0x000000...       [3, 4]   \n",
       "18  <game_agent.AlphaBetaPlayer object at 0x000000...       [6, 3]   \n",
       "19  <game_agent.AlphaBetaPlayer object at 0x000000...       [1, 5]   \n",
       "20  <game_agent.AlphaBetaPlayer object at 0x000000...       [4, 4]   \n",
       "21  <game_agent.AlphaBetaPlayer object at 0x000000...       [2, 3]   \n",
       "22  <game_agent.AlphaBetaPlayer object at 0x000000...       [5, 2]   \n",
       "23  <game_agent.AlphaBetaPlayer object at 0x000000...       [1, 1]   \n",
       "24  <game_agent.AlphaBetaPlayer object at 0x000000...       [6, 0]   \n",
       "25  <game_agent.AlphaBetaPlayer object at 0x000000...       [0, 3]   \n",
       "26  <game_agent.AlphaBetaPlayer object at 0x000000...       [4, 1]   \n",
       "27  <game_agent.AlphaBetaPlayer object at 0x000000...       [2, 2]   \n",
       "28  <game_agent.AlphaBetaPlayer object at 0x000000...       [6, 2]   \n",
       "29  <game_agent.AlphaBetaPlayer object at 0x000000...       [0, 1]   \n",
       "30  <game_agent.AlphaBetaPlayer object at 0x000000...       [5, 0]   \n",
       "31  <game_agent.AlphaBetaPlayer object at 0x000000...       [2, 0]   \n",
       "\n",
       "   Winning reason  \n",
       "0    illegal move  \n",
       "1    illegal move  \n",
       "2    illegal move  \n",
       "3    illegal move  \n",
       "4    illegal move  \n",
       "5    illegal move  \n",
       "6    illegal move  \n",
       "7    illegal move  \n",
       "8    illegal move  \n",
       "9    illegal move  \n",
       "10   illegal move  \n",
       "11   illegal move  \n",
       "12   illegal move  \n",
       "13   illegal move  \n",
       "14   illegal move  \n",
       "15   illegal move  \n",
       "16   illegal move  \n",
       "17   illegal move  \n",
       "18   illegal move  \n",
       "19   illegal move  \n",
       "20   illegal move  \n",
       "21   illegal move  \n",
       "22   illegal move  \n",
       "23   illegal move  \n",
       "24   illegal move  \n",
       "25   illegal move  \n",
       "26   illegal move  \n",
       "27   illegal move  \n",
       "28   illegal move  \n",
       "29   illegal move  \n",
       "30   illegal move  \n",
       "31   illegal move  "
      ]
     },
     "execution_count": 15,
     "metadata": {},
     "output_type": "execute_result"
    }
   ],
   "source": [
    "data = {'Player 1': MiniMax_player,\n",
    "        'Player 2': AlphaBeta_player,\n",
    "        'Winner': winner,\n",
    "        'Move history': move_history,\n",
    "        'Winning reason': winning_reason}\n",
    "\n",
    "df = pd.DataFrame(data, columns = ['Player 1', 'Player 2', 'Winner', 'Move history', 'Winning reason'])\n",
    "\n",
    "df"
   ]
  },
  {
   "cell_type": "code",
   "execution_count": null,
   "metadata": {
    "collapsed": true
   },
   "outputs": [],
   "source": []
  }
 ],
 "metadata": {
  "kernelspec": {
   "display_name": "Python [default]",
   "language": "python",
   "name": "python3"
  },
  "language_info": {
   "codemirror_mode": {
    "name": "ipython",
    "version": 3
   },
   "file_extension": ".py",
   "mimetype": "text/x-python",
   "name": "python",
   "nbconvert_exporter": "python",
   "pygments_lexer": "ipython3",
   "version": "3.6.0"
  }
 },
 "nbformat": 4,
 "nbformat_minor": 2
}
