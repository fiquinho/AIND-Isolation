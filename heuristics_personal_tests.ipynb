{
 "cells": [
  {
   "cell_type": "markdown",
   "metadata": {},
   "source": [
    "# Testing cells to check agents functionalities"
   ]
  },
  {
   "cell_type": "markdown",
   "metadata": {},
   "source": [
    "This first cells create a game and 2 players to play it."
   ]
  },
  {
   "cell_type": "code",
   "execution_count": 1,
   "metadata": {
    "collapsed": true
   },
   "outputs": [],
   "source": [
    "import random\n",
    "from isolation import Board\n",
    "from game_agent import MinimaxPlayer, AlphaBetaPlayer"
   ]
  },
  {
   "cell_type": "code",
   "execution_count": 2,
   "metadata": {
    "collapsed": true
   },
   "outputs": [],
   "source": [
    "MiniMax_player = MinimaxPlayer()\n",
    "AlphaBeta_player = AlphaBetaPlayer()"
   ]
  },
  {
   "cell_type": "code",
   "execution_count": 3,
   "metadata": {
    "collapsed": false
   },
   "outputs": [],
   "source": [
    "game = Board(MiniMax_player, AlphaBeta_player)"
   ]
  },
  {
   "cell_type": "markdown",
   "metadata": {},
   "source": [
    "### Atributes and functions of the Board object"
   ]
  },
  {
   "cell_type": "code",
   "execution_count": 4,
   "metadata": {
    "collapsed": false,
    "scrolled": true
   },
   "outputs": [
    {
     "data": {
      "text/plain": [
       "['width',\n",
       " 'height',\n",
       " 'move_count',\n",
       " '_player_1',\n",
       " '_player_2',\n",
       " '_active_player',\n",
       " '_inactive_player',\n",
       " '_board_state',\n",
       " '__module__',\n",
       " '__doc__',\n",
       " 'BLANK',\n",
       " 'NOT_MOVED',\n",
       " '__init__',\n",
       " 'hash',\n",
       " 'active_player',\n",
       " 'inactive_player',\n",
       " 'get_opponent',\n",
       " 'copy',\n",
       " 'forecast_move',\n",
       " 'move_is_legal',\n",
       " 'get_blank_spaces',\n",
       " 'get_player_location',\n",
       " 'get_legal_moves',\n",
       " 'apply_move',\n",
       " 'is_winner',\n",
       " 'is_loser',\n",
       " 'utility',\n",
       " '_Board__get_moves',\n",
       " 'print_board',\n",
       " 'to_string',\n",
       " 'play',\n",
       " '__dict__',\n",
       " '__weakref__',\n",
       " '__repr__',\n",
       " '__hash__',\n",
       " '__str__',\n",
       " '__getattribute__',\n",
       " '__setattr__',\n",
       " '__delattr__',\n",
       " '__lt__',\n",
       " '__le__',\n",
       " '__eq__',\n",
       " '__ne__',\n",
       " '__gt__',\n",
       " '__ge__',\n",
       " '__new__',\n",
       " '__reduce_ex__',\n",
       " '__reduce__',\n",
       " '__subclasshook__',\n",
       " '__init_subclass__',\n",
       " '__format__',\n",
       " '__sizeof__',\n",
       " '__dir__',\n",
       " '__class__']"
      ]
     },
     "execution_count": 4,
     "metadata": {},
     "output_type": "execute_result"
    }
   ],
   "source": [
    "game.__dir__()"
   ]
  },
  {
   "cell_type": "code",
   "execution_count": 5,
   "metadata": {
    "collapsed": false
   },
   "outputs": [
    {
     "name": "stdout",
     "output_type": "stream",
     "text": [
      "     0   1   2   3   4   5   6\n",
      "\r",
      "0  |   |   |   |   |   |   |   | \n",
      "\r",
      "1  |   |   |   |   |   |   |   | \n",
      "\r",
      "2  |   |   |   |   |   |   |   | \n",
      "\r",
      "3  |   |   |   |   |   |   |   | \n",
      "\r",
      "4  |   |   |   |   |   |   |   | \n",
      "\r",
      "5  |   |   |   |   |   |   |   | \n",
      "\r",
      "6  |   |   |   |   |   |   |   | \n",
      "\r\n"
     ]
    }
   ],
   "source": [
    "print(game.to_string())"
   ]
  },
  {
   "cell_type": "markdown",
   "metadata": {},
   "source": [
    "## Checking game functionality"
   ]
  },
  {
   "cell_type": "markdown",
   "metadata": {},
   "source": [
    "First, make a copy of game, so it remains unchanged, with zero movements on it"
   ]
  },
  {
   "cell_type": "code",
   "execution_count": 6,
   "metadata": {
    "collapsed": true
   },
   "outputs": [],
   "source": [
    "test_game = game.copy()"
   ]
  },
  {
   "cell_type": "markdown",
   "metadata": {},
   "source": [
    "Aplly two random moves, one for each player"
   ]
  },
  {
   "cell_type": "code",
   "execution_count": 7,
   "metadata": {
    "collapsed": false
   },
   "outputs": [],
   "source": [
    "for _ in range(2):\n",
    "    move = random.choice(test_game.get_legal_moves())\n",
    "    test_game.apply_move(move)"
   ]
  },
  {
   "cell_type": "code",
   "execution_count": 8,
   "metadata": {
    "collapsed": false
   },
   "outputs": [
    {
     "name": "stdout",
     "output_type": "stream",
     "text": [
      "     0   1   2   3   4   5   6\n",
      "\r",
      "0  |   |   |   |   |   |   |   | \n",
      "\r",
      "1  |   |   |   |   |   |   |   | \n",
      "\r",
      "2  |   |   |   |   |   |   |   | \n",
      "\r",
      "3  |   |   |   |   |   |   |   | \n",
      "\r",
      "4  |   | 2 |   |   |   |   |   | \n",
      "\r",
      "5  |   |   |   | 1 |   |   |   | \n",
      "\r",
      "6  |   |   |   |   |   |   |   | \n",
      "\r\n"
     ]
    }
   ],
   "source": [
    "print(test_game.to_string())"
   ]
  },
  {
   "cell_type": "markdown",
   "metadata": {},
   "source": [
    "Check that the game is played, and both players play to the end"
   ]
  },
  {
   "cell_type": "code",
   "execution_count": 9,
   "metadata": {
    "collapsed": false
   },
   "outputs": [
    {
     "name": "stdout",
     "output_type": "stream",
     "text": [
      "<game_agent.AlphaBetaPlayer object at 0x000001CDE234BC88>\n",
      "[[6, 5], [6, 0], [4, 4], [5, 2], [2, 3], [3, 1], [4, 2], [1, 0], [3, 4], [2, 2], [1, 3], [4, 3], [2, 1], [6, 4], [0, 0], [4, 5], [1, 2], [2, 4], [3, 3], [1, 6], [5, 4], [3, 5], [4, 6], [1, 4], [2, 5], [2, 6], [0, 6], [0, 5]]\n",
      "illegal move\n"
     ]
    }
   ],
   "source": [
    "winner, move_history, winning_reason = test_game.play()\n",
    "\n",
    "print(winner)\n",
    "print(move_history)\n",
    "print(winning_reason)"
   ]
  },
  {
   "cell_type": "code",
   "execution_count": null,
   "metadata": {
    "collapsed": true
   },
   "outputs": [],
   "source": []
  }
 ],
 "metadata": {
  "kernelspec": {
   "display_name": "Python 3",
   "language": "python",
   "name": "python3"
  },
  "language_info": {
   "codemirror_mode": {
    "name": "ipython",
    "version": 3
   },
   "file_extension": ".py",
   "mimetype": "text/x-python",
   "name": "python",
   "nbconvert_exporter": "python",
   "pygments_lexer": "ipython3",
   "version": "3.6.0"
  }
 },
 "nbformat": 4,
 "nbformat_minor": 2
}
