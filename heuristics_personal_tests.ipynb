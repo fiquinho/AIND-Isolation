{
 "cells": [
  {
   "cell_type": "markdown",
   "metadata": {
    "deletable": true,
    "editable": true
   },
   "source": [
    "# Testing cells to check agents functionalities"
   ]
  },
  {
   "cell_type": "markdown",
   "metadata": {
    "deletable": true,
    "editable": true
   },
   "source": [
    "This first cells create a game and 2 players to play it."
   ]
  },
  {
   "cell_type": "code",
   "execution_count": 9,
   "metadata": {
    "collapsed": true,
    "deletable": true,
    "editable": true
   },
   "outputs": [],
   "source": [
    "import random\n",
    "import pandas as pd\n",
    "import time\n",
    "from isolation import Board\n",
    "from game_agent import MinimaxPlayer, AlphaBetaPlayer"
   ]
  },
  {
   "cell_type": "code",
   "execution_count": 2,
   "metadata": {
    "collapsed": true,
    "deletable": true,
    "editable": true
   },
   "outputs": [],
   "source": [
    "MiniMax_player = MinimaxPlayer()\n",
    "AlphaBeta_player = AlphaBetaPlayer()"
   ]
  },
  {
   "cell_type": "code",
   "execution_count": 3,
   "metadata": {
    "collapsed": false,
    "deletable": true,
    "editable": true
   },
   "outputs": [],
   "source": [
    "game = Board(MiniMax_player, AlphaBeta_player)"
   ]
  },
  {
   "cell_type": "markdown",
   "metadata": {
    "deletable": true,
    "editable": true
   },
   "source": [
    "### Atributes and functions of the Board object"
   ]
  },
  {
   "cell_type": "code",
   "execution_count": 4,
   "metadata": {
    "collapsed": false,
    "deletable": true,
    "editable": true,
    "scrolled": true
   },
   "outputs": [
    {
     "data": {
      "text/plain": [
       "['width',\n",
       " 'height',\n",
       " 'move_count',\n",
       " '_player_1',\n",
       " '_player_2',\n",
       " '_active_player',\n",
       " '_inactive_player',\n",
       " '_board_state',\n",
       " '__module__',\n",
       " '__doc__',\n",
       " 'BLANK',\n",
       " 'NOT_MOVED',\n",
       " '__init__',\n",
       " 'hash',\n",
       " 'active_player',\n",
       " 'inactive_player',\n",
       " 'get_opponent',\n",
       " 'copy',\n",
       " 'forecast_move',\n",
       " 'move_is_legal',\n",
       " 'get_blank_spaces',\n",
       " 'get_player_location',\n",
       " 'get_legal_moves',\n",
       " 'apply_move',\n",
       " 'is_winner',\n",
       " 'is_loser',\n",
       " 'utility',\n",
       " '_Board__get_moves',\n",
       " 'print_board',\n",
       " 'to_string',\n",
       " 'play',\n",
       " '__dict__',\n",
       " '__weakref__',\n",
       " '__repr__',\n",
       " '__hash__',\n",
       " '__str__',\n",
       " '__getattribute__',\n",
       " '__setattr__',\n",
       " '__delattr__',\n",
       " '__lt__',\n",
       " '__le__',\n",
       " '__eq__',\n",
       " '__ne__',\n",
       " '__gt__',\n",
       " '__ge__',\n",
       " '__new__',\n",
       " '__reduce_ex__',\n",
       " '__reduce__',\n",
       " '__subclasshook__',\n",
       " '__init_subclass__',\n",
       " '__format__',\n",
       " '__sizeof__',\n",
       " '__dir__',\n",
       " '__class__']"
      ]
     },
     "execution_count": 4,
     "metadata": {},
     "output_type": "execute_result"
    }
   ],
   "source": [
    "game.__dir__()"
   ]
  },
  {
   "cell_type": "code",
   "execution_count": 5,
   "metadata": {
    "collapsed": false,
    "deletable": true,
    "editable": true
   },
   "outputs": [
    {
     "name": "stdout",
     "output_type": "stream",
     "text": [
      "     0   1   2   3   4   5   6\n",
      "\r",
      "0  |   |   |   |   |   |   |   | \n",
      "\r",
      "1  |   |   |   |   |   |   |   | \n",
      "\r",
      "2  |   |   |   |   |   |   |   | \n",
      "\r",
      "3  |   |   |   |   |   |   |   | \n",
      "\r",
      "4  |   |   |   |   |   |   |   | \n",
      "\r",
      "5  |   |   |   |   |   |   |   | \n",
      "\r",
      "6  |   |   |   |   |   |   |   | \n",
      "\r\n"
     ]
    }
   ],
   "source": [
    "print(game.to_string())"
   ]
  },
  {
   "cell_type": "markdown",
   "metadata": {
    "deletable": true,
    "editable": true
   },
   "source": [
    "## Checking game functionality"
   ]
  },
  {
   "cell_type": "markdown",
   "metadata": {
    "deletable": true,
    "editable": true
   },
   "source": [
    "First, make a copy of game, so it remains unchanged, with zero movements on it"
   ]
  },
  {
   "cell_type": "code",
   "execution_count": 6,
   "metadata": {
    "collapsed": true,
    "deletable": true,
    "editable": true
   },
   "outputs": [],
   "source": [
    "test_game = game.copy()"
   ]
  },
  {
   "cell_type": "markdown",
   "metadata": {
    "deletable": true,
    "editable": true
   },
   "source": [
    "Aplly two random moves, one for each player"
   ]
  },
  {
   "cell_type": "code",
   "execution_count": 7,
   "metadata": {
    "collapsed": false,
    "deletable": true,
    "editable": true
   },
   "outputs": [],
   "source": [
    "for _ in range(2):\n",
    "    move = random.choice(test_game.get_legal_moves())\n",
    "    test_game.apply_move(move)"
   ]
  },
  {
   "cell_type": "code",
   "execution_count": 8,
   "metadata": {
    "collapsed": false,
    "deletable": true,
    "editable": true
   },
   "outputs": [
    {
     "name": "stdout",
     "output_type": "stream",
     "text": [
      "     0   1   2   3   4   5   6\n",
      "\r",
      "0  |   | 2 |   |   |   |   |   | \n",
      "\r",
      "1  |   |   |   |   |   |   |   | \n",
      "\r",
      "2  | 1 |   |   |   |   |   |   | \n",
      "\r",
      "3  |   |   |   |   |   |   |   | \n",
      "\r",
      "4  |   |   |   |   |   |   |   | \n",
      "\r",
      "5  |   |   |   |   |   |   |   | \n",
      "\r",
      "6  |   |   |   |   |   |   |   | \n",
      "\r\n"
     ]
    }
   ],
   "source": [
    "print(test_game.to_string())"
   ]
  },
  {
   "cell_type": "markdown",
   "metadata": {
    "deletable": true,
    "editable": true
   },
   "source": [
    "Check that the game is played, and both players play to the end"
   ]
  },
  {
   "cell_type": "code",
   "execution_count": 10,
   "metadata": {
    "collapsed": false,
    "deletable": true,
    "editable": true
   },
   "outputs": [
    {
     "name": "stdout",
     "output_type": "stream",
     "text": [
      "Played one match in 2.2775604724884033 seconds\n",
      "<game_agent.AlphaBetaPlayer object at 0x0000024F7C98B208>\n",
      "[[4, 1], [2, 2], [5, 3], [3, 4], [3, 2], [1, 5], [5, 1], [0, 3], [3, 0], [2, 4], [4, 2], [1, 6], [5, 4], [0, 4], [3, 3], [2, 3], [5, 2], [3, 5], [4, 0], [1, 4], [2, 1], [0, 2], [1, 3], [1, 0], [2, 5], [3, 1], [4, 4], [4, 3], [6, 5], [6, 4], [4, 6], [4, 5]]\n",
      "illegal move\n"
     ]
    }
   ],
   "source": [
    "t0 = time.time()\n",
    "winner, move_history, winning_reason = test_game.play()\n",
    "t1 = time.time()\n",
    "print(\"Played one match in {} seconds\".format(t1 - t0))\n",
    "\n",
    "print(winner)\n",
    "print(move_history)\n",
    "print(winning_reason)"
   ]
  },
  {
   "cell_type": "code",
   "execution_count": 11,
   "metadata": {
    "collapsed": false,
    "deletable": true,
    "editable": true
   },
   "outputs": [
    {
     "name": "stdout",
     "output_type": "stream",
     "text": [
      "     0   1   2   3   4   5   6\n",
      "\r",
      "0  |   | - | - | - | - |   |   | \n",
      "\r",
      "1  | - |   |   | - | - | - | - | \n",
      "\r",
      "2  | - | - | - | - | - | - |   | \n",
      "\r",
      "3  | - | - | - | - | - | - |   | \n",
      "\r",
      "4  | - | - | - | - | - | 2 | 1 | \n",
      "\r",
      "5  |   | - | - | - | - |   |   | \n",
      "\r",
      "6  |   |   |   |   | - | - |   | \n",
      "\r\n"
     ]
    }
   ],
   "source": [
    "print(test_game.to_string())"
   ]
  },
  {
   "cell_type": "markdown",
   "metadata": {
    "collapsed": true,
    "deletable": true,
    "editable": true
   },
   "source": [
    "## Saving the results into a Pandas dataframe"
   ]
  },
  {
   "cell_type": "code",
   "execution_count": 13,
   "metadata": {
    "collapsed": false,
    "deletable": true,
    "editable": true
   },
   "outputs": [
    {
     "data": {
      "text/html": [
       "<div>\n",
       "<table border=\"1\" class=\"dataframe\">\n",
       "  <thead>\n",
       "    <tr style=\"text-align: right;\">\n",
       "      <th></th>\n",
       "      <th>Player 1</th>\n",
       "      <th>Player 2</th>\n",
       "      <th>Winner</th>\n",
       "      <th>Move history</th>\n",
       "      <th>Winning reason</th>\n",
       "    </tr>\n",
       "  </thead>\n",
       "  <tbody>\n",
       "    <tr>\n",
       "      <th>0</th>\n",
       "      <td>&lt;game_agent.MinimaxPlayer object at 0x0000024F...</td>\n",
       "      <td>&lt;game_agent.AlphaBetaPlayer object at 0x000002...</td>\n",
       "      <td>&lt;game_agent.AlphaBetaPlayer object at 0x000002...</td>\n",
       "      <td>[[4, 1], [2, 2], [5, 3], [3, 4], [3, 2], [1, 5...</td>\n",
       "      <td>illegal move</td>\n",
       "    </tr>\n",
       "  </tbody>\n",
       "</table>\n",
       "</div>"
      ],
      "text/plain": [
       "                                            Player 1  \\\n",
       "0  <game_agent.MinimaxPlayer object at 0x0000024F...   \n",
       "\n",
       "                                            Player 2  \\\n",
       "0  <game_agent.AlphaBetaPlayer object at 0x000002...   \n",
       "\n",
       "                                              Winner  \\\n",
       "0  <game_agent.AlphaBetaPlayer object at 0x000002...   \n",
       "\n",
       "                                        Move history Winning reason  \n",
       "0  [[4, 1], [2, 2], [5, 3], [3, 4], [3, 2], [1, 5...   illegal move  "
      ]
     },
     "execution_count": 13,
     "metadata": {},
     "output_type": "execute_result"
    }
   ],
   "source": [
    "data = {'Player 1': [MiniMax_player],\n",
    "        'Player 2': [AlphaBeta_player],\n",
    "        'Winner': [winner],\n",
    "        'Move history': [move_history],\n",
    "        'Winning reason': [winning_reason]}\n",
    "\n",
    "df = pd.DataFrame(data, columns = ['Player 1', 'Player 2', 'Winner', 'Move history', 'Winning reason'])\n",
    "\n",
    "df"
   ]
  }
 ],
 "metadata": {
  "kernelspec": {
   "display_name": "Python 3",
   "language": "python",
   "name": "python3"
  },
  "language_info": {
   "codemirror_mode": {
    "name": "ipython",
    "version": 3
   },
   "file_extension": ".py",
   "mimetype": "text/x-python",
   "name": "python",
   "nbconvert_exporter": "python",
   "pygments_lexer": "ipython3",
   "version": "3.6.0"
  }
 },
 "nbformat": 4,
 "nbformat_minor": 2
}
