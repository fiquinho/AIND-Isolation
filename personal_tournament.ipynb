{
 "cells": [
  {
   "cell_type": "code",
   "execution_count": 1,
   "metadata": {
    "collapsed": true
   },
   "outputs": [],
   "source": [
    "import random\n",
    "import pandas as pd\n",
    "import time\n",
    "from isolation import Board\n",
    "from sample_players import (RandomPlayer, open_move_score,\n",
    "                            improved_score, center_score)\n",
    "from game_agent import (MinimaxPlayer, AlphaBetaPlayer, custom_score,\n",
    "                        custom_score_2, custom_score_3)"
   ]
  },
  {
   "cell_type": "markdown",
   "metadata": {},
   "source": [
    "## Initialize all players"
   ]
  },
  {
   "cell_type": "code",
   "execution_count": 2,
   "metadata": {
    "collapsed": true
   },
   "outputs": [],
   "source": [
    "cpu_agent_random = RandomPlayer()\n",
    "cpu_agent_minimax_open = MinimaxPlayer(score_fn=open_move_score)\n",
    "cpu_agent_minimax_center = MinimaxPlayer(score_fn=center_score)\n",
    "cpu_agent_minimax_improved = MinimaxPlayer(score_fn=improved_score)\n",
    "cpu_agent_AB_open = AlphaBetaPlayer(score_fn=open_move_score)\n",
    "cpu_agent_AB_center = AlphaBetaPlayer(score_fn=center_score)\n",
    "cpu_agent_AB_improved = AlphaBetaPlayer(score_fn=improved_score)"
   ]
  },
  {
   "cell_type": "code",
   "execution_count": 3,
   "metadata": {
    "collapsed": true
   },
   "outputs": [],
   "source": [
    "AB_improved = AlphaBetaPlayer(score_fn=improved_score)\n",
    "AB_custom1 = AlphaBetaPlayer(score_fn=custom_score)\n",
    "AB_custom2 = AlphaBetaPlayer(score_fn=custom_score_2)\n",
    "AB_custom3 = AlphaBetaPlayer(score_fn=custom_score_3)"
   ]
  },
  {
   "cell_type": "markdown",
   "metadata": {},
   "source": [
    "## Games"
   ]
  },
  {
   "cell_type": "code",
   "execution_count": null,
   "metadata": {
    "collapsed": true
   },
   "outputs": [],
   "source": [
    "player1 = (\"AB_improved\", AB_improved)\n",
    "player2 = (\"cpu_agent_random\", cpu_agent_random)\n",
    "\n",
    "player1_names = []\n",
    "player2_names = []\n",
    "winners = []\n",
    "moves_history = []\n",
    "winning_reasons = []\n",
    "number_of_moves = []\n",
    "game_durations = []"
   ]
  },
  {
   "cell_type": "code",
   "execution_count": null,
   "metadata": {
    "collapsed": true
   },
   "outputs": [],
   "source": [
    "for _ in range(100):\n",
    "    game_moves = []\n",
    "    \n",
    "    # Game starting time\n",
    "    t0 = time.time()\n",
    "    \n",
    "    # Create board and apply 2 random moves\n",
    "    game = Board(player1[1], player2[1])\n",
    "    \n",
    "    for _ in range(2):\n",
    "        move = random.choice(game.get_legal_moves())\n",
    "        game_moves.append(move)\n",
    "        game.apply_move(move)\n",
    "    \n",
    "    winner, move_history, winning_reason = game.play()\n",
    "    t1 = time.time()\n",
    "    \n",
    "    player1_names.append(player1[0])\n",
    "    player2_names.append(player2[0])\n",
    "    winners.append(winner)\n",
    "    winning_reasons.append(winning_reason)\n",
    "    \n",
    "    for i in move_history:\n",
    "        game_moves.append(i)\n",
    "        \n",
    "    moves_history.append(game_moves)\n",
    "    number_of_moves.append(len(moves_history))\n",
    "    game_durations.append(t1 - t0)"
   ]
  },
  {
   "cell_type": "code",
   "execution_count": null,
   "metadata": {
    "collapsed": true
   },
   "outputs": [],
   "source": [
    "data = {'Player 1': player1_names,\n",
    "        'Player 2': player2_names,\n",
    "        'Winner': winners,\n",
    "        'Move history': moves_history,\n",
    "        'Winning reason': winning_reasons}\n",
    "\n",
    "df = pd.DataFrame(data, columns = ['Player 1', 'Player 2', 'Winner', 'Move history', 'Winning reason'])\n",
    "\n",
    "df"
   ]
  }
 ],
 "metadata": {
  "kernelspec": {
   "display_name": "Python 3",
   "language": "python",
   "name": "python3"
  },
  "language_info": {
   "codemirror_mode": {
    "name": "ipython",
    "version": 3
   },
   "file_extension": ".py",
   "mimetype": "text/x-python",
   "name": "python",
   "nbconvert_exporter": "python",
   "pygments_lexer": "ipython3",
   "version": "3.6.0"
  }
 },
 "nbformat": 4,
 "nbformat_minor": 2
}
